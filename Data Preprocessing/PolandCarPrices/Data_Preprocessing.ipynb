{
 "cells": [
  {
   "cell_type": "code",
   "execution_count": 29,
   "metadata": {},
   "outputs": [],
   "source": [
    "import pandas as pd\n",
    "import matplotlib.pyplot as plt"
   ]
  },
  {
   "cell_type": "code",
   "execution_count": 30,
   "metadata": {},
   "outputs": [
    {
     "name": "stdout",
     "output_type": "stream",
     "text": [
      "mark               object\n",
      "model              object\n",
      "generation_name    object\n",
      "year                int64\n",
      "mileage             int64\n",
      "vol_engine          int64\n",
      "fuel               object\n",
      "city               object\n",
      "province           object\n",
      "price               int64\n",
      "dtype: object\n"
     ]
    },
    {
     "data": {
      "text/html": [
       "<div>\n",
       "<style scoped>\n",
       "    .dataframe tbody tr th:only-of-type {\n",
       "        vertical-align: middle;\n",
       "    }\n",
       "\n",
       "    .dataframe tbody tr th {\n",
       "        vertical-align: top;\n",
       "    }\n",
       "\n",
       "    .dataframe thead th {\n",
       "        text-align: right;\n",
       "    }\n",
       "</style>\n",
       "<table border=\"1\" class=\"dataframe\">\n",
       "  <thead>\n",
       "    <tr style=\"text-align: right;\">\n",
       "      <th></th>\n",
       "      <th>mark</th>\n",
       "      <th>model</th>\n",
       "      <th>generation_name</th>\n",
       "      <th>year</th>\n",
       "      <th>mileage</th>\n",
       "      <th>vol_engine</th>\n",
       "      <th>fuel</th>\n",
       "      <th>city</th>\n",
       "      <th>province</th>\n",
       "      <th>price</th>\n",
       "    </tr>\n",
       "  </thead>\n",
       "  <tbody>\n",
       "    <tr>\n",
       "      <th>0</th>\n",
       "      <td>opel</td>\n",
       "      <td>combo</td>\n",
       "      <td>gen-d-2011</td>\n",
       "      <td>2015</td>\n",
       "      <td>139568</td>\n",
       "      <td>1248</td>\n",
       "      <td>Diesel</td>\n",
       "      <td>Janki</td>\n",
       "      <td>Mazowieckie</td>\n",
       "      <td>35900</td>\n",
       "    </tr>\n",
       "    <tr>\n",
       "      <th>1</th>\n",
       "      <td>opel</td>\n",
       "      <td>combo</td>\n",
       "      <td>gen-d-2011</td>\n",
       "      <td>2018</td>\n",
       "      <td>31991</td>\n",
       "      <td>1499</td>\n",
       "      <td>Diesel</td>\n",
       "      <td>Katowice</td>\n",
       "      <td>Śląskie</td>\n",
       "      <td>78501</td>\n",
       "    </tr>\n",
       "    <tr>\n",
       "      <th>2</th>\n",
       "      <td>opel</td>\n",
       "      <td>combo</td>\n",
       "      <td>gen-d-2011</td>\n",
       "      <td>2015</td>\n",
       "      <td>278437</td>\n",
       "      <td>1598</td>\n",
       "      <td>Diesel</td>\n",
       "      <td>Brzeg</td>\n",
       "      <td>Opolskie</td>\n",
       "      <td>27000</td>\n",
       "    </tr>\n",
       "    <tr>\n",
       "      <th>3</th>\n",
       "      <td>opel</td>\n",
       "      <td>combo</td>\n",
       "      <td>gen-d-2011</td>\n",
       "      <td>2016</td>\n",
       "      <td>47600</td>\n",
       "      <td>1248</td>\n",
       "      <td>Diesel</td>\n",
       "      <td>Korfantów</td>\n",
       "      <td>Opolskie</td>\n",
       "      <td>30800</td>\n",
       "    </tr>\n",
       "    <tr>\n",
       "      <th>4</th>\n",
       "      <td>opel</td>\n",
       "      <td>combo</td>\n",
       "      <td>gen-d-2011</td>\n",
       "      <td>2014</td>\n",
       "      <td>103000</td>\n",
       "      <td>1400</td>\n",
       "      <td>CNG</td>\n",
       "      <td>Tarnowskie Góry</td>\n",
       "      <td>Śląskie</td>\n",
       "      <td>35900</td>\n",
       "    </tr>\n",
       "  </tbody>\n",
       "</table>\n",
       "</div>"
      ],
      "text/plain": [
       "   mark  model generation_name  year  mileage  vol_engine    fuel  \\\n",
       "0  opel  combo      gen-d-2011  2015   139568        1248  Diesel   \n",
       "1  opel  combo      gen-d-2011  2018    31991        1499  Diesel   \n",
       "2  opel  combo      gen-d-2011  2015   278437        1598  Diesel   \n",
       "3  opel  combo      gen-d-2011  2016    47600        1248  Diesel   \n",
       "4  opel  combo      gen-d-2011  2014   103000        1400     CNG   \n",
       "\n",
       "              city     province  price  \n",
       "0            Janki  Mazowieckie  35900  \n",
       "1         Katowice      Śląskie  78501  \n",
       "2            Brzeg     Opolskie  27000  \n",
       "3        Korfantów     Opolskie  30800  \n",
       "4  Tarnowskie Góry      Śląskie  35900  "
      ]
     },
     "execution_count": 30,
     "metadata": {},
     "output_type": "execute_result"
    }
   ],
   "source": [
    "df = pd.read_csv('/Users/LuisV./machinelearningpractice/Car_Prices_Poland_Kaggle.csv', index_col= 0)\n",
    "\n",
    "print(df.dtypes)\n",
    "\n",
    "df.head()"
   ]
  },
  {
   "cell_type": "code",
   "execution_count": 31,
   "metadata": {},
   "outputs": [
    {
     "name": "stdout",
     "output_type": "stream",
     "text": [
      "length of column mark: 23\n",
      "length of column model: 328\n",
      "length of column generation_name: 365\n",
      "length of column year: 54\n",
      "length of column mileage: 35394\n",
      "length of column vol_engine: 508\n",
      "length of column fuel: 6\n",
      "length of column city: 4427\n",
      "length of column province: 23\n",
      "length of column price: 9310\n"
     ]
    }
   ],
   "source": [
    "#get unique values per column\n",
    "\n",
    "u_values = {}\n",
    "\n",
    "for i in df.columns:\n",
    "    u_values[i] = df[i].unique()\n",
    "\n",
    "\n",
    "for i in u_values:\n",
    "    print(f'length of column {i}: {len(u_values[i])}')\n",
    "\n",
    "\n",
    "# length of column mark: 23 - further exploraton\n",
    "# length of column model: 328 - further exploration\n",
    "# length of column generation_name: 365 - further exploration\n",
    "# length of column year: 54 - no need for further exploration\n",
    "# length of column mileage: 35394 - no need for further exploration\n",
    "# length of column vol_engine: 508  - no need for further exploration\n",
    "# length of column fuel: 6 - further exploration\n",
    "# length of column city: 4427 - further exploration\n",
    "# length of column province: 23 - further exploration\n",
    "# length of column price: 9310 - no need for further exploration\n",
    "\n"
   ]
  },
  {
   "cell_type": "markdown",
   "metadata": {},
   "source": [
    "Column 'Mark' exploration"
   ]
  },
  {
   "cell_type": "code",
   "execution_count": 32,
   "metadata": {},
   "outputs": [
    {
     "name": "stdout",
     "output_type": "stream",
     "text": [
      "['opel' 'audi' 'bmw' 'volkswagen' 'ford' 'mercedes-benz' 'renault'\n",
      " 'toyota' 'skoda' 'alfa-romeo' 'chevrolet' 'citroen' 'fiat' 'honda'\n",
      " 'hyundai' 'kia' 'mazda' 'mini' 'mitsubishi' 'nissan' 'peugeot' 'seat'\n",
      " 'volvo']\n"
     ]
    }
   ],
   "source": [
    "column = df['mark']\n",
    "\n",
    "print(column.unique())\n",
    "\n",
    "#this is the company that made the car, no need for further expoloration - can be one-hot encoded later\n"
   ]
  },
  {
   "cell_type": "markdown",
   "metadata": {},
   "source": [
    "Column 'model' further exploration"
   ]
  },
  {
   "cell_type": "code",
   "execution_count": 33,
   "metadata": {},
   "outputs": [
    {
     "name": "stdout",
     "output_type": "stream",
     "text": [
      "['combo' 'vectra' 'adam' 'agila' 'ampera' 'antara' 'astra' 'corsa'\n",
      " 'crossland-x' 'frontera' 'grandland-x' 'insignia' 'vivaro' 'zafira' 'a3'\n",
      " 'karl' 'meriva' 'mokka' 'omega' 'signum' 'tigra' '80' 'a1' 'a2' 'a4'\n",
      " 'a4-allroad' 'a5' 'a6' 'a6-allroad' 'a7' 'a8' 'e-tron' 'q2' 'q3'\n",
      " 'q4-sportback' 'q5' 'q7' 'q8' 'rs3' 'rs5' 'rs6' 'rs-q3' 's3' 's5' 's8'\n",
      " 'sq5' 'tt' '3gt' '5gt' 'i3' 'm2' 'm3' 'm4' 'm5' 'm8' 'seria-1' 'seria-2'\n",
      " 'seria-3' 'seria-4' 'seria-5' 'seria-6' 'seria-7' 'seria-8' 'x1' 'x2'\n",
      " 'x3' 'x4' 'x5' 'x5-m' 'x6' 'x6-m' 'x7' 'amarok' 'arteon' 'beetle' 'caddy'\n",
      " 'california' 'caravelle' 'cc' 'crafter' 'eos' 'fox' 'golf' 'golf-plus'\n",
      " 'golf-sportsvan' 'id4' 'jetta' 'lupo' 'multivan' 'new-beetle' 'passat'\n",
      " 'passat-cc' 'phaeton' 'polo' 'scirocco' 'sharan' 't-cross' 't-roc'\n",
      " 'tiguan' 'tiguan-allspace' 'touareg' 'touran' 'transporter' 'up' 'b-max'\n",
      " 'c-max' 'ecosport' 'edge' 'escape' 'explorer' 'f150' 'fiesta' 'focus'\n",
      " 'focus-c-max' 'fusion' 'galaxy' 'grand-c-max' 'ka' 'kuga' 'mondeo'\n",
      " 'mustang' 'mustang-mach-e' 'puma' 'ranger' 's-max' 'tourneo-connect'\n",
      " 'tourneo-courier' 'tourneo-custom' 'transit' 'transit-connect'\n",
      " 'transit-custom' 'amg-gt' 'citan' 'cl-klasa' 'cla-klasa' 'clk-klasa'\n",
      " 'cls-klasa' 'gl-klasa' 'gla-klasa' 'glb-klasa' 'glc-klasa' 'gle-klasa'\n",
      " 'glk-klasa' 'gls-klasa' 'a-klasa' 'b-klasa' 'c-klasa' 'e-klasa' 'g-klasa'\n",
      " 'r-klasa' 's-klasa' 'v-klasa' 'm-klasa' 'sl' 'slk-klasa' 'sprinter'\n",
      " 'viano' 'vito' 'arkana' 'captur' 'clio' 'espace' 'grand-espace'\n",
      " 'grand-scenic' 'fluence' 'kadjar' 'kangoo' 'koleos' 'laguna' 'megane'\n",
      " 'modus' 'scenic' 'talisman' 'thalia' 'trafic' 'twingo' 'zoe' 'auris'\n",
      " 'avensis' 'aygo' 'c-hr' 'camry' 'corolla' 'corolla-verso' 'land-cruiser'\n",
      " 'prius' 'proace-verso' 'rav4' 'sienna' 'yaris' 'verso' 'citigo' 'enyaq'\n",
      " 'fabia' 'kamiq' 'karoq' 'kodiaq' 'octavia' 'rapid' 'roomster' 'scala'\n",
      " 'superb' 'yeti' '147' '159' 'giulia' 'giulietta' 'mito' 'aveo' 'camaro'\n",
      " 'cruze' 'orlando' 'berlingo' 'c3-aircross' 'c3-picasso' 'c4-cactus'\n",
      " 'c4-grand-picasso' 'c4-picasso' 'c5' 'c5-aircross' 'ds3' 'ds4' 'ds5'\n",
      " 'xsara-picasso' '500' '500l' '500x' 'bravo' 'doblo' 'freemont'\n",
      " 'grande-punto' 'panda' 'punto' 'punto-evo' 'tipo' 'accord' 'cr-v' 'hr-v'\n",
      " 'jazz' 'civic' 'elantra' 'i10' 'i20' 'i30' 'i40' 'ix20' 'ix35' 'kona'\n",
      " 'santa-fe' 'tucson' 'carens' 'ceed' 'optima' 'picanto' 'pro-ceed'\n",
      " 'sorento' 'soul' 'sportage' 'stinger' 'stonic' 'venga' 'xceed' '2' '3'\n",
      " '5' '6' 'cx-3' 'cx-5' 'cx-7' 'cx-9' 'cx-30' 'mx-5' 'clubman' 'cooper'\n",
      " 'cooper-s' 'countryman' 'one' 'asx' 'colt' 'eclipse-cross' 'lancer'\n",
      " 'outlander' 'space-star' 'almera' 'juke' 'leaf' 'micra' 'murano' 'note'\n",
      " 'patrol' 'primera' 'qashqai' 'qashqai-2' 'x-trail' '206' '207' '208'\n",
      " '307' '308' '407' '508' '2008' '3008' '5008' 'expert' 'partner'\n",
      " 'alhambra' 'altea' 'altea-xl' 'arona' 'ateca' 'exeo' 'ibiza' 'leon'\n",
      " 'toledo' 'c30' 's40' 's60' 's80' 'v40' 'v50' 'v60' 'v70' 'v90' 'xc-40'\n",
      " 'xc-60' 'xc-70' 'xc-90']\n"
     ]
    }
   ],
   "source": [
    "column = df['model']\n",
    "\n",
    "print(column.unique())\n",
    "\n",
    "#I will not be including this in the final dataset because it seems to be that there is one model per car, and it would not make sense to encode this\n",
    "#instead, a possibility might be to look at each model and take as many attributes from each model as possible(shape, wheel size, etc)\n",
    "#this could be done with some mix of classifier/recognition and web scraping, so this might be a fun project for the future\n"
   ]
  },
  {
   "cell_type": "markdown",
   "metadata": {},
   "source": [
    "Column 'generation_name' further exploraiton"
   ]
  },
  {
   "cell_type": "code",
   "execution_count": 34,
   "metadata": {},
   "outputs": [
    {
     "name": "stdout",
     "output_type": "stream",
     "text": [
      "['gen-d-2011' 'gen-b-1995-2002' 'gen-c-2002-2008' nan 'gen-b-2008'\n",
      " 'gen-a-2000-2007' 'gen-g-1998-2009' 'gen-h-2004-2013' 'gen-j-2009-2015'\n",
      " 'gen-k-2015' 'gen-k-2009-2015' 'gen-l-2021' 'gen-e-2018'\n",
      " 'gen-b-1993-2000' 'gen-c-2000-2006' 'gen-d-2006-2014' 'gen-e-2014'\n",
      " 'gen-f-2019' 'gen-b-1998-2004' 'gen-a-2008-2017' 'gen-a-1999-2005'\n",
      " 'gen-b-2005-2011' 'gen-8p-2003-2012' 'gen-b-2017' 'gen-i-2002-2010'\n",
      " 'gen-ii-2010' 'gen-b-1994-1999' 'gen-b-fl-1999-2003' 'gen-ii-2004-2009'\n",
      " 'gen-c-2011' 'gen-b4-1991-1995' 'gen-8v-2012' 'gen-audi-a3-8y'\n",
      " 'gen-8l-1996-2003' 'gen-b6-2000-2004' 'gen-b7-2004-2007'\n",
      " 'gen-b8-2007-2015' 'gen-b9-2015' 'gen-b5-1995-2001' 'gen-8t-2007-2016'\n",
      " 'gen-f5-2016' 'gen-c5-1997-2004' 'gen-c6-2004-2011' 'gen-c7-2011'\n",
      " 'gen-c8-2018' 'gen-c7-2012' 'gen-c7-2011-2018' 'gen-c8-2018-a7'\n",
      " 'gen-d3-2002-2010' 'gen-d4-2010' 'gen-d5-2017' 'gen-d2-1994-2002'\n",
      " 'gen-8r-2008-2016' 'gen-fy-2017' 'gen-i-2005-2015' 'gen-8v-2012-s3'\n",
      " 'gen-d4-2010-s8' 'gen-8n-1998-2006' 'gen-8j-2006-2013'\n",
      " 'gen-e87-2004-2013' 'gen-f20-2011' 'gen-f40-2019' 'gen-e36-1990-1999'\n",
      " 'gen-e46-1998-2007' 'gen-e90-2005-2012' 'gen-f30-2012' 'gen-g20-2019'\n",
      " 'gen-e39-1996-2003' 'gen-e60-2003-2010' 'gen-f10-2009' 'gen-g30-2017'\n",
      " 'gen-e63-e64-2002-2010' 'gen-f12-13-2011' 'gen-e38-1994-2001'\n",
      " 'gen-e65-66-2001-2008' 'gen-f01-2008-2015' 'gen-g11-12-2015'\n",
      " 'gen-g15-2018' 'gen-e84-2009-2015' 'gen-f48-2015' 'gen-f25-2010'\n",
      " 'gen-g01-2017' 'gen-e83-2003-2010' 'gen-f26-2014%E2%80%932018'\n",
      " 'gen-g02-2018' 'gen-e70-2006-2013' 'gen-f15-2013' 'gen-g05-2018'\n",
      " 'gen-e53-1999-2006' 'gen-f16-2014' 'gen-g06-2019' 'gen-e71-2008-2014'\n",
      " 'gen-iii-2004' 'gen-iv-2015' 'gen-v-2021' 'gen-ii-1983-1992'\n",
      " 'gen-iii-1991-1998' 'gen-iv-1997-2006' 'gen-v-2003-2009'\n",
      " 'gen-vi-2008-2013' 'gen-vii-2012' 'gen-viii-2020' 'gen-a5-2005-2010'\n",
      " 'gen-a6-2010' 'gen-b5-1996-2000' 'gen-b5-fl-2000-2005' 'gen-b6-2005-2010'\n",
      " 'gen-b7-2010-2014' 'gen-b8-2014' 'gen-iii-1994-2001' 'gen-iv-2001-2009'\n",
      " 'gen-v-2009' 'gen-vi-2017' 'gen-i-1995-2010' 'gen-ii-2010-sharan'\n",
      " 'gen-i-2007-2016' 'gen-ii-2016-tiguan' 'gen-i-2002-2010-touareg'\n",
      " 'gen-ii-2010-touareg' 'gen-iii-2018-touareg' 'gen-ii-2010-2015'\n",
      " 'gen-iii-2015-touran' 'gen-i-2003-2010' 'gen-t4' 'gen-t5' 'gen-t6'\n",
      " 'gen-ii-2010-c-max' 'gen-i-2003-2010-c-max' 'gen-mk6-2002-2008'\n",
      " 'gen-mk7-2008' 'gen-mk8-2017' 'gen-mk2-2004-2011' 'gen-mk3-2010'\n",
      " 'gen-mk4-2018' 'gen-mk1-1998-2004' 'gen-mk2-2006-2015' 'gen-mk3-2015'\n",
      " 'gen-ii-2008-ka' 'gen-ii-2012-kuga' 'gen-ford-kuga-iii' 'gen-i-2008-2012'\n",
      " 'gen-mk3-2000-2006' 'gen-mk4-2007-2014' 'gen-mk5-2014' 'gen-i-2006-2015'\n",
      " 'gen-ii-2015-s-max' 'gen-vi-2006' 'gen-vii-2013'\n",
      " 'gen-ii-2013-transit-connect' 'gen-c215-1999-2006' 'gen-c216-2006-2013'\n",
      " 'gen-w208-1997-2002' 'gen-w209-2002' 'gen-c218-2011' 'gen-c219-2004-2010'\n",
      " 'gen-c257-2018' 'gen-x164-2006-2012' 'gen-x166-2012' 'gen-w166-2015-2019'\n",
      " 'gen-w167-2019' 'gen-w169-2004-2012' 'gen-w176-2012' 'gen-w177-2018'\n",
      " 'gen-w168-1997-2004' 'gen-w246-2011' 'gen-w245-2005-2011'\n",
      " 'gen-w203-2000-2007' 'gen-w204-2007-2014' 'gen-w205-2014' 'gen-w206-2021'\n",
      " 'gen-w202-1993-2001' 'gen-w210-1995-2002' 'gen-w211-2002-2009'\n",
      " 'gen-w212-2009' 'gen-w213-2016' 'gen-w124-1993-1997' 'gen-w463-1992'\n",
      " 'gen-w140-1992-1998' 'gen-w220-1998-2005' 'gen-w221-2005'\n",
      " 'gen-w221-2005-2013' 'gen-w222-2013' 'gen-w223-2020' 'gen-w164-2005-2011'\n",
      " 'gen-w166-2011' 'gen-w163-1998-2005' 'gen-r129-1989-2000'\n",
      " 'gen-r230-2001-2013' 'gen-iii-2006-sprinter' 'gen-w447-2014'\n",
      " 'gen-w639-2003' 'gen-ii-1998-2012' 'gen-iii-2005-2012' 'gen-iv-2012-clio'\n",
      " 'gen-v-2019' 'gen-iv-2003-2014' 'gen-v-2015'\n",
      " 'gen-iii-2009-2013-grand-scenic' 'gen-iv-2013-grand-scenic'\n",
      " 'gen-ii-2003-2009-grand-scenic' 'gen-ii-2008-' 'gen-iv-2013-kangoo'\n",
      " 'gen-ii-2001-2007' 'gen-iii-2007' 'gen-ii-2002-2008' 'gen-iii-2008-2016'\n",
      " 'gen-iv-2016' 'gen-ii-2003-2009-scenic' 'gen-iii-2009-2013' 'gen-iv-2013'\n",
      " 'gen-ii-2001-2014' 'gen-iii-2014-trafic' 'gen-ii-2007-2014-twingo'\n",
      " 'gen-iii-2014-twingo' 'gen-ii-2012' 'gen-i-2006-2012-auris'\n",
      " 'gen-ii-2003-2009' 'gen-iii-2009' 'gen-i-2005-2014' 'gen-ii-2014-aygo'\n",
      " 'gen-seria-e12-2001-2007' 'gen-seria-e15-2007' 'gen-seria-e16-2012'\n",
      " 'gen-e21-2019' 'gen-iv-2002-2009' 'gen-vi-2010' 'gen-ii-2003-2009-prius'\n",
      " 'gen-iii-2009-2015' 'gen-ii-2000-2005' 'gen-iii-2006-2012-rav4'\n",
      " 'gen-iv-2012' 'gen-v-2018-rav4' 'gen-ii-2005-2011' 'gen-iii-2011'\n",
      " 'gen-iv-2020' 'gen-ii-2007' 'gen-iii-2014' 'gen-iv-2021'\n",
      " 'gen-i-1999-2008' 'gen-i-1996-2011' 'gen-ii-2004-2013' 'gen-iii-2013'\n",
      " 'gen-iv-2019-octavia' 'gen-ii-2008' 'gen-iii-2015' 'gen-i-2001-2008'\n",
      " 'gen-ii-2008-berlingo' 'gen-i-1996-2010' 'gen-i-2006-2013-c4-picasso'\n",
      " 'gen-ii-2013-c4-picasso' 'gen-ii-2004-2008' 'gen-iii-2008'\n",
      " 'gen-ii-2007-bravo' 'gen-i-2000-2010-doblo' 'gen-ii-2009'\n",
      " 'gen-ii-2003-2012' 'gen-iii-2011-panda' 'gen-ii-fl-2003' 'gen-ii-2016'\n",
      " 'gen-vi-1998-2002' 'gen-vii-2002-2008' 'gen-viii-2008' 'gen-ii-2001-2006'\n",
      " 'gen-iii-2006-2012' 'gen-iv-2012-cr-v' 'gen-v-2018' 'gen-ii-2015-hr-v'\n",
      " 'gen-ii-2002-2008-jazz' 'gen-iii-2008-2014' 'gen-v-2020' 'gen-ix-2011'\n",
      " 'gen-vii-2001-2006' 'gen-viii-2006-2011' 'gen-x-2017'\n",
      " 'gen-iv-2016-elantra' 'gen-i-2008-2013' 'gen-ii-2013-i10'\n",
      " 'gen-i-2008-2014' 'gen-ii-2014' 'gen-ii-2012-i30' 'gen-iii-2017'\n",
      " 'gen-i-2007-2012' 'gen-iii-2012-santa-fe' 'gen-ii-2015'\n",
      " 'gen-iii-2015-2020' 'gen-i-2004-2010-tucson' 'gen-iii-2006-2012-carens'\n",
      " 'gen-iv-2013-carens' 'gen-ii-2012-ceed' 'gen-iii-2018' 'gen-i-2006-2012'\n",
      " 'gen-ii-2011' 'gen-iii-2017-picanto' 'gen-i-2004-2010-picanto'\n",
      " 'gen-ii-2009-2015' 'gen-iii-2015-sorento' 'gen-i-2002-2009-sorento'\n",
      " 'gen-ii-2014-soul' 'gen-i-2009-2014' 'gen-ii-2004-2010'\n",
      " 'gen-iii-2010-2015' 'gen-iv-2016-sportage' 'gen-ii-2007-2014'\n",
      " 'gen-iii-2015-2' 'gen-i-2003-2007' 'gen-ii-2009-2013' 'gen-iii-2013-3'\n",
      " 'gen-iv-2019-3' 'gen-i-2003-2009' 'gen-ii-2010-5' 'gen-i-2005-2010'\n",
      " 'gen-i-2002-2008' 'gen-ii-2007-2013-6' 'gen-iii-2012-6'\n",
      " 'gen-z30-2004-2012' 'gen-ix-2005-2008' 'gen-viii-2007' 'gen-ii-2006-2013'\n",
      " 'gen-iii-2012-outlander' 'gen-i-2001-2006' 'gen-ii-2012-space-star'\n",
      " 'gen-n16-2000-2006' 'gen-i-2010-2019' 'gen-ii-2019' 'gen-k12-2003-2010'\n",
      " 'gen-k13-2010' 'gen-k14-2017' 'gen-ii-2013-note' 'gen-i-2005-2013'\n",
      " 'gen-gr-ii-y61-1997' 'gen-p12-2001' 'gen-i-2007-2013' 'gen-ii-2013'\n",
      " 'gen-i-2001-2007' 'gen-iii-2014-x-trail' 'gen-i-2009-2016'\n",
      " 'gen-ii-2016-3008' 'gen-i-2009-2017' 'gen-ii-2017-5008'\n",
      " 'gen-ii-2008-partner' 'gen-i-1996-2010-alhambra' 'gen-ii-2010-alhambra'\n",
      " 'gen-iii-2002-2008' 'gen-iv-2008' 'gen-v-2017' 'gen-ii-2005-2012'\n",
      " 'gen-iii-2012' 'gen-seat-leon-iv' 'gen-i-1999-2005-leon'\n",
      " 'gen-iii-2004-2009' 'gen-iv-2012-toledo' 'gen-ii-2004' 'gen-ii-2010-s60'\n",
      " 'gen-iii-2018-s60' 'gen-ii-2006' 'gen-i-1998-2006' 'gen-ii-2012-v40'\n",
      " 'gen-i-2011-2018' 'gen-ii-2018' 'gen-ii-1999-2007' 'gen-iii-2007-v70'\n",
      " 'gen-i-2008-2017' 'gen-ii-2017' 'gen-i-2002' 'gen-ii-2014-xc-90']\n"
     ]
    }
   ],
   "source": [
    "column = df['generation_name']\n",
    "\n",
    "print(column.unique())\n",
    "\n",
    "#not knowledgeable about this, and it is too large to resonably encode this, as such, it will not be included in final dataset"
   ]
  },
  {
   "cell_type": "markdown",
   "metadata": {},
   "source": [
    "Column 'fuel' further exploration"
   ]
  },
  {
   "cell_type": "code",
   "execution_count": 35,
   "metadata": {},
   "outputs": [
    {
     "data": {
      "text/plain": [
       "array(['Diesel', 'CNG', 'Gasoline', 'LPG', 'Hybrid', 'Electric'],\n",
       "      dtype=object)"
      ]
     },
     "execution_count": 35,
     "metadata": {},
     "output_type": "execute_result"
    }
   ],
   "source": [
    "column = df['fuel']\n",
    "\n",
    "column.unique()\n",
    "\n",
    "#this is the type of fuel each car uses, will include in final feature set \n",
    "#might wanna do an in-depth analysis of how fuel-type changes, especially vs years to see if electric cars are becoming more popular, maybe forecast"
   ]
  },
  {
   "cell_type": "markdown",
   "metadata": {},
   "source": [
    "Column 'city' further exploration"
   ]
  },
  {
   "cell_type": "code",
   "execution_count": 36,
   "metadata": {},
   "outputs": [
    {
     "name": "stdout",
     "output_type": "stream",
     "text": [
      "['Janki' 'Katowice' 'Brzeg' ... 'Kolonia Gościeńczyce' 'Augustówek'\n",
      " 'Bledzew']\n",
      "4427\n"
     ]
    }
   ],
   "source": [
    "column = df['city']\n",
    "\n",
    "print(column.unique())\n",
    "print(len(column.unique()))\n",
    "\n",
    "#its a column of city names, not sure exactly for what, if its city it was bought in? city it was made? \n",
    "#because length is way too large to encode, it will not be included"
   ]
  },
  {
   "cell_type": "markdown",
   "metadata": {},
   "source": [
    "Column 'province' further exploration"
   ]
  },
  {
   "cell_type": "code",
   "execution_count": 37,
   "metadata": {},
   "outputs": [
    {
     "name": "stdout",
     "output_type": "stream",
     "text": [
      "['Mazowieckie' 'Śląskie' 'Opolskie' 'Dolnośląskie' 'Lubelskie'\n",
      " 'Wielkopolskie' 'Warmińsko-mazurskie' 'Małopolskie' 'Podkarpackie'\n",
      " 'Kujawsko-pomorskie' 'Pomorskie' 'Podlaskie' 'Łódzkie' 'Świętokrzyskie'\n",
      " 'Zachodniopomorskie' 'Lubuskie' 'Berlin' 'Wiedeń' 'Niedersachsen'\n",
      " 'Moravian-Silesian Region' '(' 'Trenczyn' 'Nordrhein-Westfalen']\n"
     ]
    }
   ],
   "source": [
    "column = df['province']\n",
    "\n",
    "print(column.unique())\n",
    "\n",
    "#column of just province names, just like the previous column im not sure what it means, this one might be interesting to keep, but I will not keep\n",
    "#also for some reason theres just a '(' in it"
   ]
  },
  {
   "cell_type": "code",
   "execution_count": 38,
   "metadata": {},
   "outputs": [
    {
     "data": {
      "text/html": [
       "<div>\n",
       "<style scoped>\n",
       "    .dataframe tbody tr th:only-of-type {\n",
       "        vertical-align: middle;\n",
       "    }\n",
       "\n",
       "    .dataframe tbody tr th {\n",
       "        vertical-align: top;\n",
       "    }\n",
       "\n",
       "    .dataframe thead th {\n",
       "        text-align: right;\n",
       "    }\n",
       "</style>\n",
       "<table border=\"1\" class=\"dataframe\">\n",
       "  <thead>\n",
       "    <tr style=\"text-align: right;\">\n",
       "      <th></th>\n",
       "      <th>mark</th>\n",
       "      <th>year</th>\n",
       "      <th>mileage</th>\n",
       "      <th>vol_engine</th>\n",
       "      <th>fuel</th>\n",
       "      <th>price</th>\n",
       "    </tr>\n",
       "  </thead>\n",
       "  <tbody>\n",
       "    <tr>\n",
       "      <th>0</th>\n",
       "      <td>opel</td>\n",
       "      <td>2015</td>\n",
       "      <td>139568</td>\n",
       "      <td>1248</td>\n",
       "      <td>Diesel</td>\n",
       "      <td>35900</td>\n",
       "    </tr>\n",
       "    <tr>\n",
       "      <th>1</th>\n",
       "      <td>opel</td>\n",
       "      <td>2018</td>\n",
       "      <td>31991</td>\n",
       "      <td>1499</td>\n",
       "      <td>Diesel</td>\n",
       "      <td>78501</td>\n",
       "    </tr>\n",
       "    <tr>\n",
       "      <th>2</th>\n",
       "      <td>opel</td>\n",
       "      <td>2015</td>\n",
       "      <td>278437</td>\n",
       "      <td>1598</td>\n",
       "      <td>Diesel</td>\n",
       "      <td>27000</td>\n",
       "    </tr>\n",
       "    <tr>\n",
       "      <th>3</th>\n",
       "      <td>opel</td>\n",
       "      <td>2016</td>\n",
       "      <td>47600</td>\n",
       "      <td>1248</td>\n",
       "      <td>Diesel</td>\n",
       "      <td>30800</td>\n",
       "    </tr>\n",
       "    <tr>\n",
       "      <th>4</th>\n",
       "      <td>opel</td>\n",
       "      <td>2014</td>\n",
       "      <td>103000</td>\n",
       "      <td>1400</td>\n",
       "      <td>CNG</td>\n",
       "      <td>35900</td>\n",
       "    </tr>\n",
       "    <tr>\n",
       "      <th>...</th>\n",
       "      <td>...</td>\n",
       "      <td>...</td>\n",
       "      <td>...</td>\n",
       "      <td>...</td>\n",
       "      <td>...</td>\n",
       "      <td>...</td>\n",
       "    </tr>\n",
       "    <tr>\n",
       "      <th>117922</th>\n",
       "      <td>volvo</td>\n",
       "      <td>2020</td>\n",
       "      <td>40000</td>\n",
       "      <td>1969</td>\n",
       "      <td>Hybrid</td>\n",
       "      <td>222790</td>\n",
       "    </tr>\n",
       "    <tr>\n",
       "      <th>117923</th>\n",
       "      <td>volvo</td>\n",
       "      <td>2017</td>\n",
       "      <td>51000</td>\n",
       "      <td>1969</td>\n",
       "      <td>Diesel</td>\n",
       "      <td>229900</td>\n",
       "    </tr>\n",
       "    <tr>\n",
       "      <th>117924</th>\n",
       "      <td>volvo</td>\n",
       "      <td>2016</td>\n",
       "      <td>83500</td>\n",
       "      <td>1969</td>\n",
       "      <td>Gasoline</td>\n",
       "      <td>135000</td>\n",
       "    </tr>\n",
       "    <tr>\n",
       "      <th>117925</th>\n",
       "      <td>volvo</td>\n",
       "      <td>2017</td>\n",
       "      <td>174000</td>\n",
       "      <td>1969</td>\n",
       "      <td>Diesel</td>\n",
       "      <td>154500</td>\n",
       "    </tr>\n",
       "    <tr>\n",
       "      <th>117926</th>\n",
       "      <td>volvo</td>\n",
       "      <td>2016</td>\n",
       "      <td>189020</td>\n",
       "      <td>1969</td>\n",
       "      <td>Gasoline</td>\n",
       "      <td>130000</td>\n",
       "    </tr>\n",
       "  </tbody>\n",
       "</table>\n",
       "<p>117927 rows × 6 columns</p>\n",
       "</div>"
      ],
      "text/plain": [
       "         mark  year  mileage  vol_engine      fuel   price\n",
       "0        opel  2015   139568        1248    Diesel   35900\n",
       "1        opel  2018    31991        1499    Diesel   78501\n",
       "2        opel  2015   278437        1598    Diesel   27000\n",
       "3        opel  2016    47600        1248    Diesel   30800\n",
       "4        opel  2014   103000        1400       CNG   35900\n",
       "...       ...   ...      ...         ...       ...     ...\n",
       "117922  volvo  2020    40000        1969    Hybrid  222790\n",
       "117923  volvo  2017    51000        1969    Diesel  229900\n",
       "117924  volvo  2016    83500        1969  Gasoline  135000\n",
       "117925  volvo  2017   174000        1969    Diesel  154500\n",
       "117926  volvo  2016   189020        1969  Gasoline  130000\n",
       "\n",
       "[117927 rows x 6 columns]"
      ]
     },
     "execution_count": 38,
     "metadata": {},
     "output_type": "execute_result"
    }
   ],
   "source": [
    "df.dropna(axis = 0)\n",
    "df.drop_duplicates()\n",
    "df.drop(labels = ['province', 'city', 'generation_name', 'model'], axis = 1)\n",
    "\n",
    "\n",
    "\n",
    "#df = pd.get_dummies(df)"
   ]
  },
  {
   "cell_type": "code",
   "execution_count": 129,
   "metadata": {},
   "outputs": [
    {
     "data": {
      "image/png": "[encoded data removed]",
      "text/plain": [
       "<Figure size 1008x504 with 1 Axes>"
      ]
     },
     "metadata": {
      "needs_background": "light"
     },
     "output_type": "display_data"
    }
   ],
   "source": [
    "import numpy as np\n",
    "plt.figure(figsize = (14, 7), edgecolor='black')\n",
    "\n",
    "column = df['mark']\n",
    "\n",
    "x = column.unique()\n",
    "\n",
    "plt.bar(x, height = column.value_counts(), label = 'brand', width = 1, align = 'center')\n",
    "plt.bar(x, df.groupby('mark')['mileage'].agg(np.mean), width = 0.5, align = 'edge')\n",
    "\n",
    "plt.xlabel('car brand')\n",
    "plt.legend(['number of appearances', 'mielage'])\n",
    "plt.title('Number of cars and mileage per car brand in dataset')\n",
    "plt.tick_params(axis = 'x', rotation = 90)\n",
    "plt.show()"
   ]
  },
  {
   "cell_type": "code",
   "execution_count": 166,
   "metadata": {},
   "outputs": [
    {
     "data": {
      "text/plain": [
       "Text(0, 0.5, 'times used')"
      ]
     },
     "execution_count": 166,
     "metadata": {},
     "output_type": "execute_result"
    },
    {
     "data": {
      "image/png": "[encoded data removed]",
      "text/plain": [
       "<Figure size 720x288 with 1 Axes>"
      ]
     },
     "metadata": {
      "needs_background": "light"
     },
     "output_type": "display_data"
    }
   ],
   "source": [
    "plt.figure(figsize = (10, 4))\n",
    "\n",
    "h = df.sort_values('fuel').value_counts('fuel')\n",
    "x = df['fuel'].unique()\n",
    "\n",
    "plt.bar(x, h)\n",
    "plt.title('type of fuel')\n",
    "plt.xlabel('fuel brand')\n",
    "plt.ylabel('times used')\n",
    "\n"
   ]
  }
 ],
 "metadata": {
  "interpreter": {
   "hash": "aee8b7b246df8f9039afb4144a1f6fd8d2ca17a180786b69acc140d282b71a49"
  },
  "kernelspec": {
   "display_name": "Python 3.10.1 64-bit",
   "language": "python",
   "name": "python3"
  },
  "language_info": {
   "codemirror_mode": {
    "name": "ipython",
    "version": 3
   },
   "file_extension": ".py",
   "mimetype": "text/x-python",
   "name": "python",
   "nbconvert_exporter": "python",
   "pygments_lexer": "ipython3",
   "version": "3.10.1"
  },
  "orig_nbformat": 4
 },
 "nbformat": 4,
 "nbformat_minor": 2
}
